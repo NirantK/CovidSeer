{
 "cells": [
  {
   "cell_type": "markdown",
   "metadata": {},
   "source": [
    "# Fastpages Notebook Blog Post\n",
    "> ICMR finds 1% prevalence rate for Covid in India\n",
    "\n",
    "- toc: true \n",
    "- badges: false\n",
    "- comments: true\n",
    "- categories: [jupyter]"
   ]
  },
  {
   "cell_type": "code",
   "execution_count": 1,
   "metadata": {},
   "outputs": [],
   "source": [
    "#hide\n",
    "import json\n",
    "import random\n",
    "from pathlib import Path\n",
    "\n",
    "import pandas as pd\n",
    "\n",
    "%load_ext autoreload\n",
    "%autoreload 2\n",
    "Path.ls = lambda x: list(x.iterdir())"
   ]
  },
  {
   "cell_type": "code",
   "execution_count": 2,
   "metadata": {},
   "outputs": [],
   "source": [
    "# Million Indians at Risk?"
   ]
  },
  {
   "cell_type": "markdown",
   "metadata": {},
   "source": [
    "Official Source for this information is ICMR: [Severe acute respiratory illness surveillance for coronavirus disease 2019, India, 2020](http://www.ijmr.org.in/aheadofprint_cv.asp), Gupta et al. \n",
    "\n",
    "DOI:10.4103/ijmr.IJMR_1035_20"
   ]
  },
  {
   "cell_type": "code",
   "execution_count": 3,
   "metadata": {},
   "outputs": [],
   "source": [
    "# hide\n",
    "filepath = Path(\"../_pdfs/SARI_Covid2020.pdf\")\n",
    "assert filepath.exists()"
   ]
  },
  {
   "cell_type": "code",
   "execution_count": 4,
   "metadata": {},
   "outputs": [],
   "source": [
    "# hide\n",
    "# !pip install pdfplumber\n",
    "import pdfplumber"
   ]
  },
  {
   "cell_type": "code",
   "execution_count": 5,
   "metadata": {},
   "outputs": [
    {
     "name": "stdout",
     "output_type": "stream",
     "text": [
      "                                                  0   \\\n",
      "0  [Characteristics Number of COVID-19 cases  Num...   \n",
      "1  [Nadu  (577),  Maharashtra  (553)  and  Kerala...   \n",
      "\n",
      "                                                  1   \\\n",
      "0  [(per cent of total), (per cent of total), pos...   \n",
      "1  [with COVID-19 positivity of 1.6, 0.9, 3.8 and...   \n",
      "\n",
      "                                                  2   \\\n",
      "0                           [Gender n=102, n=5723, ]   \n",
      "1  [per cent, respectively (Table III). COVID-19 ...   \n",
      "\n",
      "                                                  3   \\\n",
      "0                 [Male 85 (83.3), 3676 (64.2), 2.3]   \n",
      "1  [SARI patients were detected from eight distri...   \n",
      "\n",
      "                                                  4   \\\n",
      "0               [Female 17 (16.7), 2047 (35.8), 0.8]   \n",
      "1  [Maharashtra, six in West Bengal and five each...   \n",
      "\n",
      "                                  5                              6   \\\n",
      "0  [Age groups (yr) n=102, n=5682, ]  [0-9 2 (2.0), 386 (6.8), 0.5]   \n",
      "1      [Nadu and Delhi (Table III).]                             []   \n",
      "\n",
      "                                              7   \\\n",
      "0                        [10-19 0, 371 (6.5), 0]   \n",
      "1  [Of the 102 COVID-19 positive SARI patients,]   \n",
      "\n",
      "                                  8   \\\n",
      "0  [20-29 9 (8.8), 1419 (25.0), 0.6]   \n",
      "1                                 []   \n",
      "\n",
      "                                                  9   ...    31  \\\n",
      "0                   [30-39 8 (7.8), 971 (17.1), 0.8]  ...  None   \n",
      "1  [40 (39.2%) did not report any history of cont...  ...    []   \n",
      "\n",
      "                                                  32    33  \\\n",
      "0                                               None  None   \n",
      "1  [15 States. These districts need to be priorit...    []   \n",
      "\n",
      "                                   34    35    36  \\\n",
      "0                                None  None  None   \n",
      "1  [COVID-19 containment activities.]    []    []   \n",
      "\n",
      "                                                  37  \\\n",
      "0                                               None   \n",
      "1  [The  results  of  SARI  surveillance  need  t...   \n",
      "\n",
      "                                                  38  \\\n",
      "0                                               None   \n",
      "1  [interpreted against the following limitations...   \n",
      "\n",
      "                                                  39  \\\n",
      "0                                               None   \n",
      "1  [the weekly number of SARI patients tested at ...   \n",
      "\n",
      "                                                  40  \n",
      "0                                               None  \n",
      "1  [laboratory varied between 4 and 24 (13 on an ...  \n",
      "\n",
      "[2 rows x 41 columns]\n"
     ]
    }
   ],
   "source": [
    "#hide\n",
    "pagewise_df = []\n",
    "\n",
    "with pdfplumber.open(filepath) as pdf:\n",
    "    pages = pdf.pages\n",
    "    page = pages[2]\n",
    "    page_df = pd.DataFrame(\n",
    "        page.extract_tables(\n",
    "            {\n",
    "                \"vertical_strategy\": \"text\",\n",
    "                \"horizontal_strategy\": \"text\",\n",
    "                \"keep_blank_chars\": True,\n",
    "                #                     \"min_words_horizontal\": 6,\n",
    "                #                     \"text_tolerance\":15\n",
    "            }\n",
    "        ),\n",
    "    )\n",
    "    print(page_df)"
   ]
  }
 ],
 "metadata": {
  "kernelspec": {
   "display_name": "Python 3",
   "language": "python",
   "name": "python3"
  },
  "language_info": {
   "codemirror_mode": {
    "name": "ipython",
    "version": 3
   },
   "file_extension": ".py",
   "mimetype": "text/x-python",
   "name": "python",
   "nbconvert_exporter": "python",
   "pygments_lexer": "ipython3",
   "version": "3.7.7"
  }
 },
 "nbformat": 4,
 "nbformat_minor": 4
}
