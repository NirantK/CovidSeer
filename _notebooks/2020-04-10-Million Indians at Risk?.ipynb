{
 "cells": [
  {
   "cell_type": "markdown",
   "metadata": {},
   "source": [
    "# Are Millions of Indians at Risk?\n",
    "> ICMR finds 2% prevalence rate for Coronavirus in India's SARI patients\n",
    "\n",
    "- toc: true \n",
    "- badges: false\n",
    "- comments: true\n",
    "- categories: [official-data-only]"
   ]
  },
  {
   "cell_type": "markdown",
   "metadata": {},
   "source": [
    "> twitter: https://twitter.com/NirantK/status/1248132432617861121\n",
    "\n",
    "Yesterday, I made a bit preposterous claim when I shared that *upto* 1 Million Indians might be at Infection Risk, or might even be infected in India by 2nd week of April. See: https://bit.ly/undertestingindia \n",
    "\n",
    "This is ~0.1% of India's population\n",
    "\n",
    "**Now**, ICMR [1] confirmed that upto 1.8% Indians with Severe Acute Respiratory Illness (SARI) might be infected. \n",
    "\n",
    "This is a weak validation for what I assume. Since I assume ~0.1% of the population to be infected, a ~2% incidence of Covid19 in SARI patients appears to be in trend line of what we would expect.\n",
    "\n",
    "**More important**, this is actual data saying that reality might be better than my models. \n",
    "\n",
    "Let's assume only `x%` of Indians suffer from SARI, then only ~2% of that `x%` = 0.02x are symptomatic because of Covid.\n",
    "\n",
    "This lowers our symptomatic population which will require Covid specific medical care by 50x!"
   ]
  },
  {
   "cell_type": "markdown",
   "metadata": {},
   "source": [
    "## Bullet Points that Matter\n",
    "\n",
    "ICMR tested ~6K people across 20 States and Union Territories which had Severe Acute Respiratory Illness.  \n",
    "\n",
    "- High Prevalence Rate: 2 out of 100 patients tested positive\n",
    "    - Exact: 104 of the 5911 patients were Coronavirus positive\n",
    "- Community Transmission is a thing? 1 out of 2 patients did not report any history of contact with a known case or international travel\n",
    "    - Exact: 40 out of 104 patients\n",
    "- Men are at higher risk of infection? 2 out of 100 men and 1 out 100 women tested positive\n",
    "    - Exact: 85 men out of 3676 men tested positive. 17 out of 2047 women tested positive"
   ]
  },
  {
   "cell_type": "markdown",
   "metadata": {},
   "source": [
    "## FAQ\n",
    "Q. How many tests were done in all? 5911, out of which 104 tested positive. \n",
    "\n",
    "Q. Where these tests done? They were done across 20 States and Union Territories in India. \n",
    "\n",
    "Q. Which were the highest prevalence rate states? Tripura (11.1%), Chandigarh (4.2%), Telengana (4.2%), Maharashtra (3.8%), West Bengal (3.5%)\n",
    "\n",
    "Q. What was the prevalance rate in known hotspots? Kerala (0.2%), Rajasthan (0%), Tamil Nadu (0.9%)\n",
    "\n",
    "Q. What was the age distribution of tests and cases?  \n",
    "A. \n",
    "See table here: \n",
    "\n",
    "Age groups (yr) | Number of Case (% Positive) | Number of SARI Patients| Percent Positivity | \n",
    "---|---|---|---\n",
    "0‑9| 2 (2.0) | 386 (6.8)| 0.5 \n",
    "10‑19| 0 (0.0) | 371 (6.5)| 0.0 \n",
    "20‑29| 9 (8.8) | 1419 (25.0)| 0.6 \n",
    "30‑39| 8 (7.8) | 971 (17.1)| 0.8 \n",
    "40‑49| 16 (15.7) | 634 (11.2)| 2.5\n",
    "50‑59| 31 (30.4) | 637 (11.2)| 4.9 \n",
    "60‑69| 26 (25.5) | 672 (11.8)| 3.9 \n",
    "70‑79| 8 (7.8) | 405 (7.1)| 2.0 \n",
    "≥80| 2 (2.0) | 187 (3.3)| 1.1\n",
    "\n",
    "Q. What does SARI mean? Severe Acute Respiratory Illness\n",
    "\n",
    "Q. What does this tell us? For now, it tells us that upto 2% of India's population which has SARI has SARI because of Covid19 caused by Coronavirus / CCP Virus. "
   ]
  },
  {
   "cell_type": "markdown",
   "metadata": {},
   "source": [
    "This study's sample size of ~6K SARI Patients is a loose approximation. This obviously is not a satisfactory sample of the 1 Billion+ Indians, yet I think this is the best and most reliable data I've seen on this topic so far.\n",
    "\n",
    "I'm also happy with their testing distribution which they've shared in detail."
   ]
  },
  {
   "cell_type": "markdown",
   "metadata": {},
   "source": [
    "[1] Official Source for this information is ICMR: [Severe acute respiratory illness surveillance for coronavirus disease 2019, India, 2020](http://www.ijmr.org.in/aheadofprint_cv.asp), Gupta et al. \n",
    "DOI:10.4103/ijmr.IJMR_1035_20"
   ]
  }
 ],
 "metadata": {
  "kernelspec": {
   "display_name": "Python 3",
   "language": "python",
   "name": "python3"
  },
  "language_info": {
   "codemirror_mode": {
    "name": "ipython",
    "version": 3
   },
   "file_extension": ".py",
   "mimetype": "text/x-python",
   "name": "python",
   "nbconvert_exporter": "python",
   "pygments_lexer": "ipython3",
   "version": "3.7.7"
  }
 },
 "nbformat": 4,
 "nbformat_minor": 4
}
